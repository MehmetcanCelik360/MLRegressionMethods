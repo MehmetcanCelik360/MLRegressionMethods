{
 "cells": [
  {
   "cell_type": "code",
   "execution_count": null,
   "id": "28be6b85",
   "metadata": {},
   "outputs": [],
   "source": [
    "import operator\n",
    "import pandas as pd\n",
    "import numpy as np\n",
    "import matplotlib.pyplot as plt\n",
    "from sklearn.metrics import mean_squared_error # for calculating mean_squared error\n",
    "from sklearn.linear_model import LinearRegression # We call the LinearRegression Model\n",
    "from sklearn.metrics import mean_squared_error, r2_score,mean_absolute_error # To calculate MAE and R2 score \n",
    "from sklearn.model_selection import train_test_split # We arrange the train, test\n",
    "from sklearn.preprocessing import PolynomialFeatures # We call to Polynomial Regression\n",
    "\n",
    "\n",
    "features = PolynomialFeatures(degree=4) # We choose the 4th degree Polynomial Function\n",
    "x_train_transformed = features.fit_transform(xtrain)\n",
    "model = LinearRegression() # We define the model\n",
    "model.fit(x_train_transformed, ytrain) # We start the model fitting\n",
    "train_pred_polyreg = model.predict(x_train_transformed)  # Train predict\n",
    "\n",
    "rmse = np.sqrt(mean_squared_error(ytrain,train_pred_polyreg)) # Root Mean Score Error calculation of Train\n",
    "mae = mean_absolute_error(ytrain,train_pred_polyreg) # Mean Absolute Error calculation of Train\n",
    "r2 = r2_score(ytrain,train_pred_polyreg) # R2 Score of Train\n",
    "print(\"Polynomial Regression\")\n",
    "print(\"The RMSE value is : \",rmse)\n",
    "print(\"The MAE value is\",mae)\n",
    "print(\"The R2 value is : \",r2)"
   ]
  }
 ],
 "metadata": {
  "kernelspec": {
   "display_name": "Python 3 (ipykernel)",
   "language": "python",
   "name": "python3"
  },
  "language_info": {
   "codemirror_mode": {
    "name": "ipython",
    "version": 3
   },
   "file_extension": ".py",
   "mimetype": "text/x-python",
   "name": "python",
   "nbconvert_exporter": "python",
   "pygments_lexer": "ipython3",
   "version": "3.9.13"
  }
 },
 "nbformat": 4,
 "nbformat_minor": 5
}
