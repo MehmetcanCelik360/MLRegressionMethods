{
 "cells": [
  {
   "cell_type": "code",
   "execution_count": null,
   "id": "2156ec69",
   "metadata": {},
   "outputs": [],
   "source": [
    "import operator\n",
    "import pandas as pd\n",
    "import numpy as np\n",
    "import matplotlib.pyplot as plt\n",
    "from sklearn.metrics import mean_squared_error # for calculating mean_squared error\n",
    "from sklearn.linear_model import LinearRegression # We call the LinearRegression Model\n",
    "from sklearn.metrics import mean_squared_error, r2_score,mean_absolute_error # To calculate MAE and R2 score \n",
    "from sklearn.model_selection import train_test_split # We arrange the train, test\n",
    "\n",
    "model = LinearRegression() # We define the model\n",
    "model.fit(xtrain, ytrain) # We start the model fitting\n",
    "train_pred_lr = model.predict(xtrain) # Train predict\n",
    "test_pred_lr = model.predict(xtest)\n",
    "\n",
    "rmse = np.sqrt(mean_squared_error(ytrain,train_pred_lr)) # Root Mean Score Error calculation of Train\n",
    "mae = mean_absolute_error(ytrain,train_pred_lr) # Mean Absolute Error calculation of Train\n",
    "r2 = r2_score(ytrain,train_pred_lr) # R2 Score of Train\n",
    "\n",
    "# rmse_test = np.sqrt(mean_squared_error(ytest,test_pred_lr))\n",
    "# mae_test = mean_absolute_error(ytest,test_pred_lr)\n",
    "# r2_test = r2_score(ytest,test_pred_lr)  \n",
    "print(\"Linear Regression\")\n",
    "print(\"The RMSE value is : \",rmse)\n",
    "print(\"The MAE value is\",mae)\n",
    "print(\"The R2 value is : \",r2)\n",
    "print(\"****************************************\")"
   ]
  }
 ],
 "metadata": {
  "kernelspec": {
   "display_name": "Python 3 (ipykernel)",
   "language": "python",
   "name": "python3"
  },
  "language_info": {
   "codemirror_mode": {
    "name": "ipython",
    "version": 3
   },
   "file_extension": ".py",
   "mimetype": "text/x-python",
   "name": "python",
   "nbconvert_exporter": "python",
   "pygments_lexer": "ipython3",
   "version": "3.9.13"
  }
 },
 "nbformat": 4,
 "nbformat_minor": 5
}
